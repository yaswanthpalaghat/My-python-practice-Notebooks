{
 "cells": [
  {
   "cell_type": "code",
   "execution_count": 12,
   "metadata": {},
   "outputs": [
    {
     "name": "stdout",
     "output_type": "stream",
     "text": [
      "<class 'list'>\n",
      "[1, 2, 3]\n"
     ]
    },
    {
     "data": {
      "text/plain": [
       "[1, 2, 'yash', 45]"
      ]
     },
     "execution_count": 12,
     "metadata": {},
     "output_type": "execute_result"
    }
   ],
   "source": [
    "#Lists\n",
    "a=[1,2,3]\n",
    "print(type(a))\n",
    "a2=list(a)\n",
    "print(a2)\n",
    "a3=[i for i in range(10)]\n",
    "a3\n",
    "a4=[1,2,\"yash\",45]\n",
    "a4"
   ]
  },
  {
   "cell_type": "code",
   "execution_count": 19,
   "metadata": {},
   "outputs": [
    {
     "name": "stdout",
     "output_type": "stream",
     "text": [
      "2\n",
      "3\n",
      "[2, 3]\n",
      "1\n",
      "2\n",
      "3\n"
     ]
    }
   ],
   "source": [
    "#accessing data\n",
    "print(a[1])\n",
    "print(a[-1])\n",
    "print(a[1:3])\n",
    "len(a)\n",
    "\n",
    "for i in a:\n",
    "    print(i)"
   ]
  },
  {
   "cell_type": "code",
   "execution_count": null,
   "metadata": {},
   "outputs": [],
   "source": [
    "str=\"a b c d\"\n",
    "str.split()\n",
    "\n",
    "str=\"ab b c d\"\n",
    "str.split(\",\")\n",
    "\n",
    "str=input().strip()\n",
    "list=str.split(\" \")\n",
    "list\n",
    "\n",
    "for i in range(0,len(list)):\n",
    "    list[i]=int(list[i])\n",
    "    list\n",
    "\n",
    "    \n",
    "l=[int(x) for x in input().strip().split(\" \")]\n",
    "l"
   ]
  }
 ],
 "metadata": {
  "kernelspec": {
   "display_name": "Python 3",
   "language": "python",
   "name": "python3"
  },
  "language_info": {
   "codemirror_mode": {
    "name": "ipython",
    "version": 3
   },
   "file_extension": ".py",
   "mimetype": "text/x-python",
   "name": "python",
   "nbconvert_exporter": "python",
   "pygments_lexer": "ipython3",
   "version": "3.6.5"
  }
 },
 "nbformat": 4,
 "nbformat_minor": 2
}
