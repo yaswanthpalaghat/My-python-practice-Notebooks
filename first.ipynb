{
 "cells": [
  {
   "cell_type": "markdown",
   "metadata": {},
   "source": [
    "## YASWANTH INTO PYTHON AND ML\n",
    "This is the first trail of jupyter notebook."
   ]
  },
  {
   "cell_type": "code",
   "execution_count": 4,
   "metadata": {},
   "outputs": [
    {
     "name": "stdout",
     "output_type": "stream",
     "text": [
      "1012\n",
      "14\n"
     ]
    }
   ],
   "source": [
    "#print function\n",
    "a=10\n",
    "print(a,end=\"\")\n",
    "print(12)\n",
    "print(14)\n"
   ]
  },
  {
   "cell_type": "code",
   "execution_count": 9,
   "metadata": {},
   "outputs": [
    {
     "data": {
      "text/plain": [
       "40"
      ]
     },
     "execution_count": 9,
     "metadata": {},
     "output_type": "execute_result"
    }
   ],
   "source": [
    "#variables\n",
    "#last line in output\n",
    "a=10\n",
    "b=20\n",
    "a+20\n",
    "b+20"
   ]
  },
  {
   "cell_type": "code",
   "execution_count": 14,
   "metadata": {},
   "outputs": [
    {
     "name": "stdout",
     "output_type": "stream",
     "text": [
      "<class 'int'>\n",
      "<class 'float'>\n",
      "<class 'complex'>\n"
     ]
    }
   ],
   "source": [
    "#types of numbers\n",
    "a=10\n",
    "print(type(a))\n",
    "a=2.34\n",
    "print(type(a))\n",
    "a=3+9j\n",
    "print(type(a))"
   ]
  },
  {
   "cell_type": "code",
   "execution_count": 31,
   "metadata": {},
   "outputs": [
    {
     "name": "stdout",
     "output_type": "stream",
     "text": [
      "15\n",
      "7\n",
      "44\n",
      "2.75\n",
      "2\n",
      "14641\n",
      "3\n"
     ]
    }
   ],
   "source": [
    "#operators\n",
    "a=11\n",
    "b=4\n",
    "c=a+b\n",
    "print(c)\n",
    "print(a-b)\n",
    "print(a*b)\n",
    "print(a/b)\n",
    "print(a//b)\n",
    "print(a**b)\n",
    "print(a%b)"
   ]
  },
  {
   "cell_type": "code",
   "execution_count": 33,
   "metadata": {},
   "outputs": [
    {
     "name": "stdout",
     "output_type": "stream",
     "text": [
      "this is yash\n"
     ]
    }
   ],
   "source": [
    "#string\n",
    "a=\"this is yash\"\n",
    "print(a)"
   ]
  },
  {
   "cell_type": "code",
   "execution_count": 69,
   "metadata": {},
   "outputs": [
    {
     "name": "stdout",
     "output_type": "stream",
     "text": [
      "12\n",
      "<class 'str'>\n",
      "t\n",
      "yaswanth\n",
      "<class 'str'>\n"
     ]
    }
   ],
   "source": [
    "#typical string properties\n",
    "a=\"this is yash\"\n",
    "print(len(a))\n",
    "print(type(a))\n",
    "print(a[0])\n",
    "#strings are immutable,a[0]=2 is invalid\n",
    "b=\"yas\"\n",
    "c=\"wanth\"\n",
    "d=b+c\n",
    "print(d)\n",
    "\n",
    "#no characters\n",
    "print(type('2'))\n",
    "\n"
   ]
  },
  {
   "cell_type": "code",
   "execution_count": null,
   "metadata": {},
   "outputs": [],
   "source": [
    "#few functions for strings\n",
    "a=\"  Abc  \"\n",
    "print(a.upper())\n",
    "print(a)\n",
    "print(a.lower())\n",
    "print(a.strip()) #eliminate white spaces\n",
    "print(a.isalpha())\n",
    "a=a.strip()\n",
    "print(a.isalpha())\n",
    "\n"
   ]
  },
  {
   "cell_type": "code",
   "execution_count": null,
   "metadata": {},
   "outputs": [],
   "source": [
    "#user input\n",
    "a=input()\n",
    "print(a)\n",
    "\n",
    "\n",
    "\n",
    "\n"
   ]
  },
  {
   "cell_type": "code",
   "execution_count": null,
   "metadata": {},
   "outputs": [],
   "source": [
    "#string slicing\n",
    "a=\"abc\"\n",
    "a[0]"
   ]
  }
 ],
 "metadata": {
  "kernelspec": {
   "display_name": "Python 3",
   "language": "python",
   "name": "python3"
  },
  "language_info": {
   "codemirror_mode": {
    "name": "ipython",
    "version": 3
   },
   "file_extension": ".py",
   "mimetype": "text/x-python",
   "name": "python",
   "nbconvert_exporter": "python",
   "pygments_lexer": "ipython3",
   "version": "3.6.5"
  }
 },
 "nbformat": 4,
 "nbformat_minor": 2
}
