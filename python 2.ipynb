{
 "cells": [
  {
   "cell_type": "code",
   "execution_count": 10,
   "metadata": {},
   "outputs": [
    {
     "name": "stdout",
     "output_type": "stream",
     "text": [
      "<class 'tuple'>\n",
      "(1, 'aas', 2.3)\n"
     ]
    },
    {
     "data": {
      "text/plain": [
       "(1, 'aas')"
      ]
     },
     "execution_count": 10,
     "metadata": {},
     "output_type": "execute_result"
    }
   ],
   "source": [
    "#tuples\n",
    "t=(1,2,3)\n",
    "print(type(t))\n",
    "t[0]\n",
    "t=(1,\"aas\",2.30)\n",
    "print(t)\n",
    "#immutable,t[0]=23 is invalid\n",
    "t[0:2] #slicing\n"
   ]
  },
  {
   "cell_type": "code",
   "execution_count": 21,
   "metadata": {},
   "outputs": [
    {
     "name": "stdout",
     "output_type": "stream",
     "text": [
      "(1, 3, 'k', 3)\n",
      "(1, 3, 1, 3)\n",
      "True\n",
      "True\n"
     ]
    }
   ],
   "source": [
    "#operators on tuples\n",
    "t=(1,3)\n",
    "j=('k',3)\n",
    "print(t+j)\n",
    "print(t*2)\n",
    "print(1 in t)\n",
    "print('k' in j)\n",
    "\n",
    "\n"
   ]
  }
 ],
 "metadata": {
  "kernelspec": {
   "display_name": "Python 3",
   "language": "python",
   "name": "python3"
  },
  "language_info": {
   "codemirror_mode": {
    "name": "ipython",
    "version": 3
   },
   "file_extension": ".py",
   "mimetype": "text/x-python",
   "name": "python",
   "nbconvert_exporter": "python",
   "pygments_lexer": "ipython3",
   "version": "3.6.5"
  }
 },
 "nbformat": 4,
 "nbformat_minor": 2
}
