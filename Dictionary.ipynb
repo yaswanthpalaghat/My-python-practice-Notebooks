{
 "cells": [
  {
   "cell_type": "code",
   "execution_count": 4,
   "metadata": {},
   "outputs": [
    {
     "name": "stdout",
     "output_type": "stream",
     "text": [
      "{23: 43, 'str': 34}\n"
     ]
    },
    {
     "data": {
      "text/plain": [
       "{23: 43, 'str': 34}"
      ]
     },
     "execution_count": 4,
     "metadata": {},
     "output_type": "execute_result"
    }
   ],
   "source": [
    "d={}\n",
    "d[23]=43\n",
    "d[\"str\"]=34\n",
    "print(d)\n",
    "d={23: 43, 'str': 34}\n",
    "d"
   ]
  },
  {
   "cell_type": "code",
   "execution_count": 6,
   "metadata": {},
   "outputs": [
    {
     "name": "stdout",
     "output_type": "stream",
     "text": [
      "23:43\n",
      "str:34\n"
     ]
    }
   ],
   "source": [
    "for i in d:\n",
    "    print(i,end=':')\n",
    "    print(d[i])"
   ]
  },
  {
   "cell_type": "code",
   "execution_count": 13,
   "metadata": {},
   "outputs": [
    {
     "name": "stdout",
     "output_type": "stream",
     "text": [
      "1\n",
      "dict_keys([2, 98, 'str'])\n"
     ]
    }
   ],
   "source": [
    "print(len(d))\n",
    "d2={2:43,98:444,\"str\":332}\n",
    "print(d2.keys())"
   ]
  }
 ],
 "metadata": {
  "kernelspec": {
   "display_name": "Python 3",
   "language": "python",
   "name": "python3"
  },
  "language_info": {
   "codemirror_mode": {
    "name": "ipython",
    "version": 3
   },
   "file_extension": ".py",
   "mimetype": "text/x-python",
   "name": "python",
   "nbconvert_exporter": "python",
   "pygments_lexer": "ipython3",
   "version": "3.6.5"
  }
 },
 "nbformat": 4,
 "nbformat_minor": 2
}
