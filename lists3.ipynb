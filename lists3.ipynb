{
 "cells": [
  {
   "cell_type": "code",
   "execution_count": 13,
   "metadata": {},
   "outputs": [
    {
     "name": "stdout",
     "output_type": "stream",
     "text": [
      "[2, 3, 6, 7, 8, 9, 9, 14, 25]\n",
      "0\n",
      "3\n",
      "[25, 14, 9, 9, 8, 7, 6, 3, 2]\n"
     ]
    },
    {
     "data": {
      "text/plain": [
       "True"
      ]
     },
     "execution_count": 13,
     "metadata": {},
     "output_type": "execute_result"
    }
   ],
   "source": [
    "l=[2,25,8,7,9,3,6,9,14]\n",
    "l.sort()\n",
    "print(l)\n",
    "\n",
    "print(l.count(1))\n",
    "print(l.index(7))\n",
    "l.reverse()\n",
    "print(l)\n",
    "\n",
    "9 in l"
   ]
  },
  {
   "cell_type": "code",
   "execution_count": 19,
   "metadata": {},
   "outputs": [
    {
     "data": {
      "text/plain": [
       "[1, 2, 3, 5, 7, 8, 9]"
      ]
     },
     "execution_count": 19,
     "metadata": {},
     "output_type": "execute_result"
    }
   ],
   "source": [
    "#bubble sort\n",
    "l=[5,8,7,1,9,3,2]\n",
    "n=len(l)\n",
    "for j in range(n):\n",
    "    for i in range(0,n-1):\n",
    "         if(l[i]>l[i+1]):\n",
    "                t=l[i]\n",
    "                l[i]=l[i+1]\n",
    "                l[i+1]=t\n",
    "        \n",
    "l"
   ]
  },
  {
   "cell_type": "code",
   "execution_count": 20,
   "metadata": {},
   "outputs": [
    {
     "name": "stdout",
     "output_type": "stream",
     "text": [
      "1 5 8 9\n"
     ]
    }
   ],
   "source": [
    "a=list(input())"
   ]
  }
 ],
 "metadata": {
  "kernelspec": {
   "display_name": "Python 3",
   "language": "python",
   "name": "python3"
  },
  "language_info": {
   "codemirror_mode": {
    "name": "ipython",
    "version": 3
   },
   "file_extension": ".py",
   "mimetype": "text/x-python",
   "name": "python",
   "nbconvert_exporter": "python",
   "pygments_lexer": "ipython3",
   "version": "3.6.5"
  }
 },
 "nbformat": 4,
 "nbformat_minor": 2
}
